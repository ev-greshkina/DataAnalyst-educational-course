{
  "cells": [
    {
      "cell_type": "markdown",
      "metadata": {
        "id": "view-in-github",
        "colab_type": "text"
      },
      "source": [
        "<a href=\"https://colab.research.google.com/github/ev-greshkina/DataAnalyst-educational-course/blob/main/%D0%94%D0%97_%D0%BA_%D0%BB%D0%B5%D0%BA%D1%86%D0%B8%D0%B8_20_v_1.ipynb\" target=\"_parent\"><img src=\"https://colab.research.google.com/assets/colab-badge.svg\" alt=\"Open In Colab\"/></a>"
      ]
    },
    {
      "cell_type": "markdown",
      "metadata": {
        "id": "2Szv_988wbFE"
      },
      "source": [
        "#Выполнение ДЗ"
      ]
    },
    {
      "cell_type": "code",
      "execution_count": 57,
      "metadata": {
        "id": "qvCGI2K1wrrg"
      },
      "outputs": [],
      "source": [
        "# Подключение библиотек\n",
        "import pandas as pd\n",
        "from sklearn.model_selection import train_test_split\n",
        "from sklearn.feature_extraction.text import TfidfVectorizer\n",
        "# Импортировать классификатор\n",
        "from sklearn.ensemble import GradientBoostingClassifier\n",
        "from sklearn.metrics import classification_report\n",
        "import csv\n",
        "import nltk\n",
        "from nltk.corpus import stopwords"
      ]
    },
    {
      "cell_type": "code",
      "execution_count": 58,
      "metadata": {
        "id": "oDr225n9xAJx"
      },
      "outputs": [],
      "source": [
        "# Получение иходных данных\n",
        "# Файл для обработки должен быть в папке в блокноте, размер большой для копиролвания на github,\n",
        "# настроить получение файла с google диска не удалось.\n",
        "with open('lenta-ru-news.csv', 'r', encoding='utf-8') as file:\n",
        "    reader = csv.DictReader(file)\n",
        "    df = pd.DataFrame(reader)"
      ]
    },
    {
      "cell_type": "code",
      "execution_count": 59,
      "metadata": {
        "id": "x0-UupasxQha"
      },
      "outputs": [],
      "source": [
        "# Уменьшить количесвто записей в датасете, для уменьшения времени вычисления\n",
        "df = df.sample(100000).copy()"
      ]
    },
    {
      "cell_type": "code",
      "execution_count": 60,
      "metadata": {
        "id": "P9k2J6Ja2G5H"
      },
      "outputs": [],
      "source": [
        "# Подготовить список стоп-слов\n",
        "sw = stopwords.words('russian')"
      ]
    },
    {
      "cell_type": "code",
      "execution_count": 61,
      "metadata": {
        "id": "s2rmmf4ZDISA"
      },
      "outputs": [],
      "source": [
        "# Удалить все строки, в которых отсутствует значение в ячейке topic\n",
        "df = df.loc[df['topic'] != '']"
      ]
    },
    {
      "cell_type": "code",
      "execution_count": 62,
      "metadata": {
        "colab": {
          "base_uri": "https://localhost:8080/"
        },
        "id": "-D0rt4uOwjkn",
        "outputId": "f013c64c-34cc-41a1-f721-379b3c7ff390"
      },
      "outputs": [
        {
          "output_type": "stream",
          "name": "stdout",
          "text": [
            "['Россия', 'Мир', 'Экономика', 'Спорт']\n",
            "              precision    recall  f1-score   support\n",
            "\n",
            "         Мир       0.82      0.86      0.84      3382\n",
            "      Россия       0.82      0.86      0.84      3966\n",
            "       Спорт       0.98      0.89      0.93      1668\n",
            "   Экономика       0.88      0.79      0.83      2012\n",
            "\n",
            "    accuracy                           0.85     11028\n",
            "   macro avg       0.87      0.85      0.86     11028\n",
            "weighted avg       0.85      0.85      0.85     11028\n",
            "\n",
            "CPU times: user 8min 48s, sys: 1.16 s, total: 8min 49s\n",
            "Wall time: 8min 58s\n"
          ]
        }
      ],
      "source": [
        "%%time\n",
        "# Предобработка данных\n",
        "df['text'] = df['text'].str.lower()\n",
        "df['text'] = df['text'].str.replace(r'\\W', ' ')\n",
        "\n",
        "# Определить признаки целевой переменной\n",
        "vectorizer = TfidfVectorizer(stop_words=sw, max_features=1000)\n",
        "X = vectorizer.fit_transform(df['text'])\n",
        "y = df['topic']\n",
        "\n",
        "# Получение топ 4 тем\n",
        "top_categories = y.value_counts().nlargest(4).index.tolist()\n",
        "filtered_data = df[df['topic'].isin(top_categories)]\n",
        "print(top_categories)\n",
        "\n",
        "# Разделить данные на обучающую и тестовую выборки\n",
        "X_train, X_test, y_train, y_test = train_test_split(\n",
        "    vectorizer.transform(filtered_data['text']),\n",
        "    filtered_data['topic'],\n",
        "    test_size=0.2,\n",
        "    random_state=42\n",
        ")\n",
        "\n",
        "# Создание обучающей модели\n",
        "model = GradientBoostingClassifier()\n",
        "model.fit(X_train, y_train)\n",
        "\n",
        "# Оценка модели\n",
        "y_pred = model.predict(X_test)\n",
        "print(classification_report(y_test, y_pred))"
      ]
    }
  ],
  "metadata": {
    "colab": {
      "provenance": [],
      "authorship_tag": "ABX9TyMLiXnL0/CJTgErjSYz7T+j",
      "include_colab_link": true
    },
    "kernelspec": {
      "display_name": "Python 3",
      "name": "python3"
    },
    "language_info": {
      "name": "python"
    }
  },
  "nbformat": 4,
  "nbformat_minor": 0
}