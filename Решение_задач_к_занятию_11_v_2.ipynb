{
  "cells": [
    {
      "cell_type": "markdown",
      "metadata": {
        "id": "view-in-github",
        "colab_type": "text"
      },
      "source": [
        "<a href=\"https://colab.research.google.com/github/ev-greshkina/DataAnalyst-educational-course/blob/main/%D0%A0%D0%B5%D1%88%D0%B5%D0%BD%D0%B8%D0%B5_%D0%B7%D0%B0%D0%B4%D0%B0%D1%87_%D0%BA_%D0%B7%D0%B0%D0%BD%D1%8F%D1%82%D0%B8%D1%8E_11_v_2.ipynb\" target=\"_parent\"><img src=\"https://colab.research.google.com/assets/colab-badge.svg\" alt=\"Open In Colab\"/></a>"
      ]
    },
    {
      "cell_type": "markdown",
      "metadata": {
        "id": "pDrecLU-4QjS"
      },
      "source": [
        "# Практика"
      ]
    },
    {
      "cell_type": "code",
      "source": [
        "# Подключение библиотек\n",
        "import pandas as pd\n",
        "import numpy as np"
      ],
      "metadata": {
        "id": "Troak6W_vp6U"
      },
      "execution_count": null,
      "outputs": []
    },
    {
      "cell_type": "markdown",
      "metadata": {
        "id": "gUvTNDlMaV-a"
      },
      "source": [
        "## Определение вероятности. События\n",
        "\n",
        "Требуется сгенерировать необходимые выборки и произвести по ним расчеты"
      ]
    },
    {
      "cell_type": "markdown",
      "metadata": {
        "id": "5V70InEBTgup"
      },
      "source": [
        "### Задача 1\n",
        "Брошено две монеты. Найти вероятность того, что монеты выпали разными сторонами\n",
        "\n",
        "_Ответ: 0.5_"
      ]
    },
    {
      "cell_type": "code",
      "execution_count": null,
      "metadata": {
        "id": "88Iw-SL3jYQV",
        "colab": {
          "base_uri": "https://localhost:8080/"
        },
        "outputId": "9f34b745-b5e6-4395-a880-8371dd632f3e"
      },
      "outputs": [
        {
          "output_type": "stream",
          "name": "stdout",
          "text": [
            "0.49897\n"
          ]
        }
      ],
      "source": [
        "# Создать исходные переменные\n",
        "# Монета А с двумя сторонами и равной вероятностью выпадения обеих сторон\n",
        "A = ['HEAD', 'TAIL']\n",
        "# Монета В с двумя сторонами и равной вероятностью выпадения обеих сторон\n",
        "B = ['HEAD', 'TAIL']\n",
        "# Значение вероятности выпадения стороны монеты\n",
        "probability = [0.5, 0.5]\n",
        "# Счетчик количества выпадения разных сторон монет\n",
        "different = 0\n",
        "# Счетчик количества экспериментовв\n",
        "n = 100000\n",
        "\n",
        "# Запустить цикл по подбрасыванию монет (определение случайного значения) и\n",
        "# анализу результата\n",
        "#np.random.choice(elements, 10, p=probabilities)\n",
        "for i in range(n):\n",
        "  coin_A = np.random.choice(A, 1, p=probability)\n",
        "  coin_B = np.random.choice(B, 1, p=probability)\n",
        "  if coin_A != coin_B:\n",
        "    different += 1\n",
        "\n",
        "result_probability = different / n\n",
        "\n",
        "print(result_probability)"
      ]
    },
    {
      "cell_type": "markdown",
      "metadata": {
        "id": "t0XOMos2Tl0e"
      },
      "source": [
        "### Задача 2\n",
        "Брошено три монеты. Описать множество всех элементарных событий. Найти вероятности следующих событий:\n",
        "\n",
        "\n",
        "1.   A = {не выпало ни одного герба}\n",
        "2.   B = {выпало четное число гербов}\n",
        "3.   C = {на третьей монете выпал герб}\n",
        "\n",
        "_Ответы:  0.125, 0.375, 0.5_"
      ]
    },
    {
      "cell_type": "code",
      "execution_count": null,
      "metadata": {
        "id": "o7NjAE9uUo-L",
        "colab": {
          "base_uri": "https://localhost:8080/"
        },
        "outputId": "bae9e663-5980-4a02-9bf5-d4f6a1cf7918"
      },
      "outputs": [
        {
          "output_type": "stream",
          "name": "stdout",
          "text": [
            "0.12443 , 0.37475 , 0.49959\n"
          ]
        }
      ],
      "source": [
        "# Создать исходные переменные\n",
        "# В качестве герба принимаем строноу HEAD\n",
        "# Монета А\n",
        "A = ['HEAD', 'TAIL']\n",
        "# Монета B\n",
        "B = ['HEAD', 'TAIL']\n",
        "# Монета C\n",
        "C = ['HEAD', 'TAIL']\n",
        "# Переменная вероятности выпадения стороны монеты (одна для всех монет, т.к. монеты одинаковые)\n",
        "possibility = [0.5, 0.5]\n",
        "# Счетчик количества экспериментов\n",
        "n = 100000\n",
        "# Счетчик результата, при котором не выпало ни одного герба\n",
        "not_head = 0\n",
        "# Счетчик результата, при котором выпало четное число гербов\n",
        "even_heads = 0\n",
        "# Счетчик результата, при котором на монете С выпал герб\n",
        "head_in_C = 0\n",
        "\n",
        "# Запуск в цикле проведения эксперимента\n",
        "for i in range(n):\n",
        "  # Получить значение выпавшей стороны монеты А\n",
        "  coin_A = np.random.choice(A, 1, p=possibility)\n",
        "  # Получить значение выпавшей стороны монеты В\n",
        "  coin_B = np.random.choice(B, 1, p=possibility)\n",
        "  # Получить значение выпавшей стороны монеты С\n",
        "  coin_C = np.random.choice(C, 1, p=possibility)\n",
        "\n",
        "  # Посчитать, сколько раз не выпал герб ни на одной монете за один цикл эксперимента\n",
        "  if coin_A != 'HEAD' and coin_B != 'HEAD' and coin_C != 'HEAD':\n",
        "    not_head += 1\n",
        "\n",
        "  # Посчитать, сколько раз выпало четное число гербов\n",
        "  if coin_A == 'HEAD' and coin_B == 'HEAD' and coin_C != 'HEAD':\n",
        "    even_heads += 1\n",
        "  elif coin_A == 'HEAD' and coin_C == 'HEAD' and coin_B != 'HEAD':\n",
        "    even_heads += 1\n",
        "  elif coin_B == 'HEAD' and coin_C == 'HEAD' and coin_A != 'HEAD':\n",
        "    even_heads += 1\n",
        "\n",
        "  # Посчитать вероятноеть, что на монете С выпал герб\n",
        "  if coin_C == \"HEAD\":\n",
        "    head_in_C += 1\n",
        "\n",
        "\n",
        "# Вычислить вероятность того, что не выпал ни один герб\n",
        "possibility_not_head = not_head / n\n",
        "\n",
        "# Вычислить вероятность того, что выпало четное количество гербов\n",
        "possibility_even_heads = even_heads / n\n",
        "\n",
        "# Вычислить вероятность, при которой на монете С выпадет герб\n",
        "possibility_head_in_C = head_in_C / n\n",
        "\n",
        "print(possibility_not_head,',', possibility_even_heads,',', possibility_head_in_C)"
      ]
    },
    {
      "cell_type": "markdown",
      "metadata": {
        "id": "zH7xH-Nc93rP"
      },
      "source": [
        "Предлагается также решить задачи:\n",
        "\n",
        "### Задача 3\n",
        "Из двух претендентов E и L на ответственную должность три члена комиссии должны отобрать одного. Каждый член комиссии должен указать либо одного достойного, либо забраковать обоих. Претендент считается выбранным, если он был признана достойным хотя бы двумя членами комиссии.\n",
        "Найти вероятность событий:\n",
        "\n",
        "A = {рекомендован L}, B = {рекомендован E}\n",
        "\n",
        "_Ответы: 0.26, 0.26_"
      ]
    },
    {
      "cell_type": "code",
      "execution_count": null,
      "metadata": {
        "id": "rvC0kbv-93rP",
        "colab": {
          "base_uri": "https://localhost:8080/"
        },
        "outputId": "5cc306b6-b1cb-490b-e52a-b18e978d9e87"
      },
      "outputs": [
        {
          "output_type": "stream",
          "name": "stdout",
          "text": [
            "0.26112 , 0.26067\n"
          ]
        }
      ],
      "source": [
        "# Создать необходимые переменные\n",
        "# Кандидат Е с двумя вариантами рекомендации\n",
        "E = ['yes', 'no']\n",
        "# Кандидат L с двумя вариантами рекомендации\n",
        "L = ['yes', 'no']\n",
        "# Вероятность выбора кандидата\n",
        "possibility = [0.26, 0.74]\n",
        "# Переменная для управления количества эксперинетов\n",
        "n = 100000\n",
        "# Переменная количества выбора кандидата E\n",
        "count_E = 0\n",
        "# Переменная количества выбора кандидата L\n",
        "count_L = 0\n",
        "\n",
        "# Моделирование исходов экспериментов\n",
        "for i in range(n):\n",
        "  # Получить решение по кандидату E\n",
        "  yes_E = np.random.choice(E, 1, p=possibility)\n",
        "  # Получить решение по кандидату L\n",
        "  yes_L = np.random.choice(L, 1, p=possibility)\n",
        "\n",
        "  # Обработка результата моделирования выбора кандидата\n",
        "  if yes_E == 'yes':\n",
        "    count_E += 1\n",
        "\n",
        "  if yes_L == 'yes':\n",
        "    count_L += 1\n",
        "\n",
        "\n",
        "# Вычислить вероятности выбора каждого из кандидатов\n",
        "p_choice_E = count_E / n\n",
        "p_choice_L = count_L / n\n",
        "\n",
        "print(p_choice_E, ',', p_choice_L)"
      ]
    },
    {
      "cell_type": "markdown",
      "metadata": {
        "id": "peM38mVfYa5B"
      },
      "source": [
        "### Задача 4\n",
        "Брошено две игральных кости. Описать множество элементарных событий. Найти вероятности событий:\n",
        "\n",
        "A = {вышло две \"шестерки\"}\n",
        "\n",
        "B = {сумма выпавших очков не меньше 11}\n",
        "\n",
        "C = {не выпала ни одна \"шестерка\"}\n",
        "\n",
        "_Ответы (не забывайте о множестве элементарных событий): 0.028, 0.083, 0.7_"
      ]
    },
    {
      "cell_type": "code",
      "execution_count": null,
      "metadata": {
        "id": "D_-YGpJe93rQ",
        "colab": {
          "base_uri": "https://localhost:8080/"
        },
        "outputId": "8247d07b-4d64-41b0-b4af-4692aac0210b"
      },
      "outputs": [
        {
          "output_type": "stream",
          "name": "stdout",
          "text": [
            "0.02774 , 0.08249 , 0.6959\n"
          ]
        }
      ],
      "source": [
        "# Создть необходимые переменные\n",
        "# Кубики с возможными значениями после броска\n",
        "cube_1 = [1, 2, 3, 4, 5, 6]\n",
        "cube_2 = [1, 2, 3, 4, 5, 6]\n",
        "# Установить вероятность выпадения каждого значения кубика\n",
        "possibility = [1/6, 1/6, 1/6, 1/6, 1/6, 1/6]\n",
        "# Счетчик количества экспериментов\n",
        "n = 100000\n",
        "# Счетчик результата, при котором выпали две шестерки\n",
        "double_six = 0\n",
        "# счетчик результата, при котором сумма меньше 11\n",
        "sum_not_less_11 = 0\n",
        "# счетчик результата, при котором не выпала ни одна шестерка\n",
        "not_six = 0\n",
        "\n",
        "# Моделирование результатов эксперимента\n",
        "for i in range(n):\n",
        "  cube_1_res = np.random.choice(cube_1, 1, p=possibility)\n",
        "  cube_2_res = np.random.choice(cube_2, 1, p=possibility)\n",
        "\n",
        "  # A = {вышло две \"шестерки\"}\n",
        "  if cube_1_res == 6 and cube_2_res == 6:\n",
        "    double_six += 1\n",
        "\n",
        "  # B = {сумма выпавших очков не меньше 11}\n",
        "  if cube_1_res + cube_2_res >= 11:\n",
        "    sum_not_less_11 += 1\n",
        "\n",
        "  # C = {не выпала ни одна \"шестерка\"}\n",
        "  if cube_1_res != 6 and cube_2_res != 6:\n",
        "    not_six += 1\n",
        "\n",
        "# Вычислить вероятность выпадения двух шестерок\n",
        "double_six_pos = double_six / n\n",
        "\n",
        "# Вычислить вероятность, что сумма кубиков менее 11\n",
        "sum_not_less_11_pos = sum_not_less_11 / n\n",
        "\n",
        "# Вычислить вероятность, что не выпало ни одной шестерки\n",
        "not_six_pos = not_six / n\n",
        "\n",
        "print(double_six_pos, ',', sum_not_less_11_pos, ',', not_six_pos)"
      ]
    },
    {
      "cell_type": "markdown",
      "metadata": {
        "id": "f-Bi0p8haclB"
      },
      "source": [
        "## Вероятность суммы событий"
      ]
    },
    {
      "cell_type": "markdown",
      "metadata": {
        "id": "g7A7QlvGTnwZ"
      },
      "source": [
        "### Задача 5\n",
        "Брошены две игральные кости. Найти вероятность события D = {выпала хотя бы одна шестёрка}\n",
        "\n",
        "_Ответ: 0.305_"
      ]
    },
    {
      "cell_type": "code",
      "execution_count": null,
      "metadata": {
        "id": "vjtTJN-kUp9D",
        "colab": {
          "base_uri": "https://localhost:8080/"
        },
        "outputId": "792abf71-278c-4462-fa67-ccc459ec1bcf"
      },
      "outputs": [
        {
          "output_type": "execute_result",
          "data": {
            "text/plain": [
              "0.30619"
            ]
          },
          "metadata": {},
          "execution_count": 20
        }
      ],
      "source": [
        "# Создать необходимые переменные\n",
        "# Кубик 1\n",
        "cube_1 = [1, 2, 3, 4, 5, 6]\n",
        "# Кубик 2\n",
        "cube_2 = [1, 2, 3, 4, 5, 6]\n",
        "# Веротность выпадения каждой стороны кубика при броске (вероятности равные)\n",
        "possibility = [1/6, 1/6, 1/6, 1/6, 1/6, 1/6]\n",
        "# Количесвто экспериментов\n",
        "n = 100000\n",
        "# Счетчик количества случаев выпадения хотя бы одной шестерки\n",
        "res_is_six = 0\n",
        "\n",
        "\n",
        "# Провести заданное количество экспериментов с одинаковыми исходными данными\n",
        "for i in range(n):\n",
        "  # Получить значение при броске первого кубика\n",
        "  cube_1_res = np.random.choice(cube_1, 1, p=possibility)\n",
        "  # Получить значение при броске второго кубика\n",
        "  cube_2_res = np.random.choice(cube_2, 1, p=possibility)\n",
        "\n",
        "  # Обработать результат броска кубиков\n",
        "  if cube_1_res == 6 or cube_2_res == 6:\n",
        "    res_is_six += 1\n",
        "\n",
        "# Вычислить вероятность выпадения хотя бы одной шестерки\n",
        "is_six_pos = res_is_six / n\n",
        "\n",
        "is_six_pos"
      ]
    },
    {
      "cell_type": "markdown",
      "metadata": {
        "id": "R1bYSzQQbC6I"
      },
      "source": [
        "Предлагается также решить задачи:\n",
        "\n",
        "### Задача 6\n",
        "В телефонном номере три последние цифры стерлись. Считая, что все возможные значения стершихся цифр равновероятны, найти вероятность событий:\n",
        "\n",
        "A = {Стерлись различные цифры},\n",
        "\n",
        "B = {Стерлись одинаковые цифры},\n",
        "\n",
        "C = {Среди стершихся цифр хотя бы две совпадают},\n",
        "\n",
        "D = {Среди стершихся цифр хотя бы две различны}\n",
        "\n",
        "_Ответы: 0.72, 0.01, 0.28, 0.99_"
      ]
    },
    {
      "cell_type": "code",
      "execution_count": null,
      "metadata": {
        "id": "q3zXl4tM93rR",
        "colab": {
          "base_uri": "https://localhost:8080/"
        },
        "outputId": "fb4b4930-d8d9-417c-eae6-a3efdfa966a2"
      },
      "outputs": [
        {
          "output_type": "stream",
          "name": "stdout",
          "text": [
            "0.71987 0.01034 0.28013 0.98966\n"
          ]
        }
      ],
      "source": [
        "# Создать необходимые переменные\n",
        "# Цифра 1\n",
        "fig_1 = [0, 1, 2, 3, 4, 5, 6, 7, 8, 9]\n",
        "# Цифра 2\n",
        "fig_2 = [0, 1, 2, 3, 4, 5, 6, 7, 8, 9]\n",
        "# Цифра 3\n",
        "fig_3 = [0, 1, 2, 3, 4, 5, 6, 7, 8, 9]\n",
        "# Вероятность выпадения одной из цифр\n",
        "possibility = [0.1, 0.1, 0.1, 0.1, 0.1, 0.1, 0.1, 0.1, 0.1, 0.1]\n",
        "# Количество проведенных экспериментов\n",
        "n = 100000\n",
        "# Счетчик случаев, при которых все цифры различные\n",
        "various_fig = 0\n",
        "# Счетчик случаев, при которых все цифры одинаковые\n",
        "same_fig = 0\n",
        "# Счетчик случаев, при которых сопадают хотябы две\n",
        "match_two = 0\n",
        "# Счетчик случаев, при которых хотя бы две различные\n",
        "dif_two = 0\n",
        "\n",
        "\n",
        "# Провести заданное количесво экспериментов и обработать результат\n",
        "for i in range(n):\n",
        "  # Получить значение первой цифры\n",
        "  fig_1_res = np.random.choice(fig_1, 1, p=possibility)\n",
        "  # Получить значение второй цифры\n",
        "  fig_2_res = np.random.choice(fig_2, 1, p=possibility)\n",
        "  # Получить значение третьей цифры\n",
        "  fig_3_res = np.random.choice(fig_3, 1, p=possibility)\n",
        "\n",
        "  # Обработать результат\n",
        "  # A = {Стерлись различные цифры}\n",
        "  if fig_1_res != fig_2_res and fig_1_res != fig_3_res and fig_2_res != fig_3_res:\n",
        "    various_fig += 1\n",
        "\n",
        "  # B = {Стерлись одинаковые цифры}\n",
        "  if fig_1_res == fig_2_res and fig_1_res == fig_3_res and fig_2_res == fig_3_res:\n",
        "    same_fig += 1\n",
        "\n",
        "  # C = {Среди стершихся цифр хотя бы две совпадают}\n",
        "  if fig_1_res == fig_2_res or fig_1_res == fig_3_res or fig_2_res == fig_3_res:\n",
        "    match_two += 1\n",
        "\n",
        "  # D = {Среди стершихся цифр хотя бы две различны}\n",
        "  if fig_1_res != fig_2_res or fig_1_res != fig_3_res or fig_2_res != fig_3_res:\n",
        "    dif_two += 1\n",
        "\n",
        "\n",
        "# Вычислить вероятность, что все цифры различные\n",
        "pos_various_fig = various_fig / n\n",
        "\n",
        "# Вычислить вероятность, что все цифры одинаковые\n",
        "pos_same_fig = same_fig / n\n",
        "\n",
        "# Вычислить вероятность, что совпадают хотя бы две цифры\n",
        "pos_match_two = match_two / n\n",
        "\n",
        "# Вычислить вероятность, что хотя бы две цифры различны\n",
        "pos_dif_two = dif_two / n\n",
        "\n",
        "print(pos_various_fig, pos_same_fig, pos_match_two, pos_dif_two)"
      ]
    },
    {
      "cell_type": "markdown",
      "metadata": {
        "id": "RnugkR8BalK_"
      },
      "source": [
        "## Случайные величины"
      ]
    },
    {
      "cell_type": "markdown",
      "metadata": {
        "id": "yLoZDZ17UVsp"
      },
      "source": [
        "### Задача 7\n",
        "В лотерее имеется 10 билетов, из которых один выигрышный. Размер выигрыша 10 ден. ед.; стоимость билета 1 ден ед. Найти закон распределения случайной величины X, равной чистому выигрышу участника лотереи, который вытаскивает билет первым.\n",
        "\n",
        "_Ответ: закон распределения данной величины_"
      ]
    },
    {
      "cell_type": "code",
      "execution_count": null,
      "metadata": {
        "id": "oNk432sKUqzT",
        "colab": {
          "base_uri": "https://localhost:8080/"
        },
        "outputId": "2fddb044-f924-4d6c-b559-19931cd6629a"
      },
      "outputs": [
        {
          "output_type": "stream",
          "name": "stdout",
          "text": [
            "   Чистый выигрыш (X)  Вероятность (P(X))\n",
            "0                   9                 0.1\n",
            "1                  -1                 0.9\n"
          ]
        }
      ],
      "source": [
        "# Возможные значения чистого выигрыша\n",
        "# Выйгрыш\n",
        "win = 10\n",
        "# Цена билета\n",
        "cost = 1\n",
        "\n",
        "# Чистый выигрыш в зависимости от того, выиграл ли участник\n",
        "# Если первый игрок выйграл\n",
        "winning = win - cost\n",
        "# Если первый игрок не выйграл\n",
        "losing = -cost\n",
        "\n",
        "# Определить вероятности\n",
        "# Вероятность выйгать\n",
        "pos_win = 1 / 10\n",
        "# Вероятновть не выйграть\n",
        "pos_lose = 9 / 10  # вероятность проиграть\n",
        "\n",
        "# Создать DataFrame для представления закона распределения\n",
        "data = {\n",
        "    'Чистый выигрыш (X)': [winning, losing],\n",
        "    'Вероятность (P(X))': [pos_win, pos_lose]\n",
        "}\n",
        "\n",
        "distribution = pd.DataFrame(data)\n",
        "\n",
        "# Выводим закон распределения\n",
        "print(distribution)"
      ]
    },
    {
      "cell_type": "markdown",
      "metadata": {
        "id": "U-NK9liSbpvb"
      },
      "source": [
        "Предлагается также решить задачу:\n",
        "\n",
        "### Задача 8\n",
        "Брошены две игральные кости. Найти закон распределения случайной величины $X$, равной сумме выпавших очков. Найти вероятности событий ${X <= 4}$, ${X > 4}$\n",
        "\n",
        "_Ответ: закон распределения случайной величины , вероятности событий  𝑋<=4 и 𝑋>4_"
      ]
    },
    {
      "cell_type": "code",
      "execution_count": null,
      "metadata": {
        "id": "6pfGRECJ93rS",
        "colab": {
          "base_uri": "https://localhost:8080/"
        },
        "outputId": "b200d4da-4709-4747-c2f6-8116fcb06f9c"
      },
      "outputs": [
        {
          "output_type": "stream",
          "name": "stdout",
          "text": [
            "    Сумма (X)  Вероятность (P(X))\n",
            "0           2            0.027778\n",
            "1           3            0.055556\n",
            "2           4            0.083333\n",
            "3           5            0.111111\n",
            "4           6            0.138889\n",
            "5           7            0.166667\n",
            "6           8            0.138889\n",
            "7           9            0.111111\n",
            "8          10            0.083333\n",
            "9          11            0.055556\n",
            "10         12            0.027778\n",
            "\n",
            "Вероятность события Х при X <= 4 = 0.17\n",
            "Вероятность события Х при X > 4 = 0.83\n"
          ]
        }
      ],
      "source": [
        "# Получить все возможные исходы бросков кубиков (суммы значений выпавших кубиков)\n",
        "all_values = []\n",
        "for i in range(1, 7):\n",
        "  for j in range(1,7):\n",
        "    all_values.append(i+j)\n",
        "\n",
        "\n",
        "# Создать dataframe объект\n",
        "df_all_values = pd.Series(all_values).value_counts().sort_index()\n",
        "\n",
        "# Вычислить вероятность\n",
        "# Вычислить длину списка всех значений\n",
        "len_all_values = len(all_values)\n",
        "# Вероятность выпадения каждого значения\n",
        "possibilities = df_all_values / len_all_values\n",
        "\n",
        "# Создать закон распределения\n",
        "distribution = pd.DataFrame({\n",
        "    'Сумма (X)': possibilities.index,\n",
        "    'Вероятность (P(X))': possibilities.values})\n",
        "\n",
        "# Вывод закона распределения\n",
        "print(distribution)\n",
        "\n",
        "# Найти вероятности событий для X <= 4 и X > 4\n",
        "pos_X_less_4 = possibilities[possibilities.index <= 4].sum()\n",
        "pos_X_more_4 = possibilities[possibilities.index > 4].sum()\n",
        "\n",
        "print()\n",
        "print(f'Вероятность события Х при X <= 4 = {pos_X_less_4:.2f}')\n",
        "print(f'Вероятность события Х при X > 4 = {pos_X_more_4:.2f}')"
      ]
    },
    {
      "cell_type": "markdown",
      "metadata": {
        "id": "shgW4D83awjK"
      },
      "source": [
        "## Условные вероятности"
      ]
    },
    {
      "cell_type": "markdown",
      "metadata": {
        "id": "Fbu1RFZwWZrk"
      },
      "source": [
        "### Задача 9\n",
        "Из колоды (36 карт) вынимают последовательно без возвращения две карты. Найти вероятность того, что первой картой была шестерка, а второй — семерка. Найти условную вероятность того же события при условии, что обе карты бубновой масти.\n",
        "\n",
        "_Ответы: .0127, 0.0008_"
      ]
    },
    {
      "cell_type": "code",
      "source": [
        "# Подготовить исходные данные\n",
        "# Создать список всех номиналов\n",
        "values = ['6', '7', '8', '9', '10', 'J', 'Q', 'K', 'A']\n",
        "# Создать список всех мастей\n",
        "suits = ['heart', 'diamond', 'club', 'spade']\n",
        "# Создать колоду карт\n",
        "# Список - пустая колода\n",
        "deck = []\n",
        "for value in values:\n",
        "  for suit in suits:\n",
        "    deck.append(value + ' ' + suit)\n",
        "\n",
        "# Создать список вероятности выпадения каждой карты.\n",
        "# В колоде 36 карт, поэтому список содержит 36 значения 1/36\n",
        "card_six_possibilities = [1/36] * 36\n",
        "# Аналогично создать спискок вероятности для каждой карты в колоде после того,\n",
        "# как получена первая карта (в колоде осталось 35 карт)\n",
        "card_seven_possibilities = [1/35] * 35\n",
        "\n",
        "# Создать переменную счетчик, для управления циклом получения случайных значений\n",
        "n = 100000\n",
        "\n",
        "# Создать переменную, содержащую количество раз случайно выпавшей первой шестерки\n",
        "card_six = 0\n",
        "# Создать переменную, содержащую количество раз случайно выпавшей второй семерки\n",
        "card_seven = 0\n",
        "# Создать переменную, содержащую количество раз случайно выпавшей первой шестерки бубновой масти\n",
        "card_six_diamond = 0\n",
        "# Создать переменную, содержащую количество раз случайно выпавшей второй семерки бубновой масти\n",
        "card_seven_diamond = 0\n",
        "\n",
        "\n",
        "# В цикле получить выборку случайных значений (получение карты из колоды) и при\n",
        "# увеличить требуемые счетчик на 1 при соответствии полученного значения требуемому\n",
        "for i in range(n):\n",
        "  # Получить первую карту из колоды\n",
        "  first_card = np.random.choice(deck, 1, p=card_six_possibilities)\n",
        "  # Создать копию исходного списка для удаления из него полученной первой карты\n",
        "  reduced_deck = deck.copy()\n",
        "  # Удалить из колоды карту, полученной перовой\n",
        "  reduced_deck.remove(first_card)\n",
        "  # Получить вторую карту из колоды без первой карты\n",
        "  second_card = np.random.choice(reduced_deck, 1, p=card_seven_possibilities)\n",
        "\n",
        "  # Обработать результаты\n",
        "  if first_card[0][0] == '6':\n",
        "    card_six += 1\n",
        "\n",
        "  if second_card[0][0] == '7':\n",
        "    card_seven += 1\n",
        "\n",
        "  if first_card[0] == '6 diamond':\n",
        "    card_six_diamond += 1\n",
        "\n",
        "  if second_card[0] == '7 diamond':\n",
        "    card_seven_diamond += 1\n",
        "\n",
        "# Вычислить вероятность наступления события\n",
        "# Вероятность получить первой картой любую шестерку\n",
        "pos_card_six = card_six / n\n",
        "# Вероятность получить второй картой любую семерку\n",
        "pos_card_seven = card_seven / n\n",
        "# Вероятность получить первой картой шестерку, а второй семерку\n",
        "pos_six_and_seven = pos_card_six * pos_card_seven\n",
        "\n",
        "# Вычислить вероятность выпадения первой картой шестерки бубновой масти\n",
        "pos_six_diamond = card_six_diamond / n\n",
        "# Вычислить вероятность выпадения второй картой семерки бубновой масти\n",
        "pos_seven_diamond = card_seven_diamond / n\n",
        "# Вычислить вероятность выпадения первой картой 6 бубновой масти и второй карты 7 бубновой масти\n",
        "pos_6_and_7_diamond = pos_six_diamond * pos_seven_diamond\n",
        "\n",
        "\n",
        "# Вывести резульаты\n",
        "print(f'Вероятность, что первая карта шестерка, а вторая карта семерка: {pos_six_and_seven:.4f}.')\n",
        "print()\n",
        "print(f'Вероятность, что первая карта шестерка бубновой масти,\\\n",
        " а вторая карта семерка бубновой масти: {pos_6_and_7_diamond:.4f}.')"
      ],
      "metadata": {
        "id": "h_eJZtWsG8iz",
        "outputId": "f6c638e1-4fe3-452d-b746-fb799cc8cdac",
        "colab": {
          "base_uri": "https://localhost:8080/"
        }
      },
      "execution_count": null,
      "outputs": [
        {
          "output_type": "stream",
          "name": "stdout",
          "text": [
            "Вероятность, что первая карта шестерка, а вторая карта семерка: 0.0124.\n",
            "\n",
            "Вероятность, что первая карта шестерка бубновой масти, а вторая карта семерка бубновой масти: 0.0008.\n"
          ]
        }
      ]
    },
    {
      "cell_type": "markdown",
      "metadata": {
        "id": "hNVxtaz5c57b"
      },
      "source": [
        "Предлагается также решить задачу:\n",
        "\n",
        "### Задача 10\n",
        "Из урны, содержащей два белых и три черных шара, последовательно извлекают два шара; вынутые шары не возвращаются. Если первый шар оказался черным, то перед вторым извлечением в урну добавляют белый шар. В противном случае состав оставшихся шаров не меняют. Найти вероятности событий:\n",
        "\n",
        "$A$ = {извлечены два белых шара},\n",
        "\n",
        "$B$ = {извлечены два черных шара}\n",
        "\n",
        "Указание. Пусть событие $C_1$ = {первый шар белый}, событие $C_2$ = {второй шар белый}. Тогда $A = C_1C_2$, $B = \\overline C_1 \\overline C_2$\n",
        "\n",
        "_Ответы: 0.1, 0.24_"
      ]
    },
    {
      "cell_type": "code",
      "source": [
        "# Создать урну с шарами\n",
        "basket = ['white', 'white', 'black', 'black', 'black']\n",
        "\n",
        "# Создать вероятность выпадения для каждого шара из исходной корзины\n",
        "possibilities = [1/5, 1/5, 1/5, 1/5, 1/5]\n",
        "\n",
        "# Создать вероятность выпадения для каждого шара из усеченной корзины\n",
        "reduced_possibilities = [1/4, 1/4, 1/4, 1/4]\n",
        "\n",
        "# Создать переменную для управления циклом\n",
        "n = 100000\n",
        "\n",
        "# Создать переменную - счетчик, которая отражает выпадение белыми первого и второго шара\n",
        "first_and_second_white_ball = 0\n",
        "\n",
        "# Создать переменную - счетчик, которая отражает выпадение черными первого и второго шара\n",
        "first_and_second_black_ball = 0\n",
        "\n",
        "# Запустить в цикле получение случайных значений\n",
        "for i in range(n):\n",
        "  # Получить первый шар\n",
        "  first_ball = np.random.choice(basket, 1, p=possibilities)\n",
        "\n",
        "  # Создать копию исходно корзины для подготовки второй выборки\n",
        "  reduced_basket = basket.copy()\n",
        "\n",
        "  # Преобразовать корзину, в зависимости от выпадения первого шара и\n",
        "  # получить случайно выбранный второй шар.\n",
        "  if first_ball[0] == 'black':\n",
        "    # Удалить выпавший шар\n",
        "    reduced_basket.remove(first_ball[0])\n",
        "    # Добавить белый шар в корзину, т.к. это случай, при котором первый был черным\n",
        "    reduced_basket.append('white')\n",
        "    # Получить второй шар\n",
        "    second_ball = np.random.choice(reduced_basket, 1, p=possibilities)\n",
        "  elif first_ball[0] == 'white':\n",
        "    # Удалить выпавший шар\n",
        "    reduced_basket.remove(first_ball[0])\n",
        "    # Получить второй шар\n",
        "    second_ball = np.random.choice(reduced_basket, 1, p=reduced_possibilities)\n",
        "\n",
        "  # Обработать результаты получения первого и второго шаров\n",
        "  # Если первый и второй шары белые, то увеличить соответствующий счетчик на 1\n",
        "  if first_ball[0] == 'white' and second_ball[0] == 'white':\n",
        "    first_and_second_white_ball += 1\n",
        "  # Если первый и второй шары черные, то увеличить соответствующий счетчик на 1\n",
        "  elif first_ball[0] == 'black' and second_ball[0] == 'black':\n",
        "    first_and_second_black_ball += 1\n",
        "\n",
        "# Вычислить вероятность событий\n",
        "# Вероятность выпадения двух белых шаров\n",
        "pos_1_and_2_white = first_and_second_white_ball / n\n",
        "\n",
        "# Вероятность выпадения двух черных шаров\n",
        "pos_1_and_2_black = first_and_second_black_ball / n\n",
        "\n",
        "# Вывести резульаты\n",
        "print(f'Вероятность вытащить первый и второй шары белыми: {pos_1_and_2_white:.4f}.')\n",
        "print(f'Вероятность вытащить первый и второй шары белыми: {pos_1_and_2_black:.4f}.')"
      ],
      "metadata": {
        "colab": {
          "base_uri": "https://localhost:8080/"
        },
        "id": "NwDA_NEbslbN",
        "outputId": "d6918929-00e6-4932-9e0b-298589260a77"
      },
      "execution_count": null,
      "outputs": [
        {
          "output_type": "stream",
          "name": "stdout",
          "text": [
            "Вероятность вытащить первый и второй шары белыми: 0.0976.\n",
            "Вероятность вытащить первый и второй шары белыми: 0.2392.\n"
          ]
        }
      ]
    }
  ],
  "metadata": {
    "colab": {
      "provenance": [],
      "include_colab_link": true
    },
    "kernelspec": {
      "display_name": "Python 3 (ipykernel)",
      "language": "python",
      "name": "python3"
    },
    "language_info": {
      "codemirror_mode": {
        "name": "ipython",
        "version": 3
      },
      "file_extension": ".py",
      "mimetype": "text/x-python",
      "name": "python",
      "nbconvert_exporter": "python",
      "pygments_lexer": "ipython3",
      "version": "3.9.13"
    }
  },
  "nbformat": 4,
  "nbformat_minor": 0
}